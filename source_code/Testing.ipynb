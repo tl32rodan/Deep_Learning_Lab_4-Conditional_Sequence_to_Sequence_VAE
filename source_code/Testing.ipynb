{
 "cells": [
  {
   "cell_type": "code",
   "execution_count": 1,
   "metadata": {},
   "outputs": [],
   "source": [
    "from dataloader import *\n",
    "from VAE import *\n",
    "from scores import *\n",
    "from train import *\n",
    "from cal_score import cal_bleu, cal_gaussian\n",
    "\n",
    "import torch\n",
    "import torch.nn as nn\n",
    "import torch.optim as optim\n",
    "import matplotlib.ticker as ticker\n",
    "import matplotlib.pyplot as plt\n",
    "plt.switch_backend('agg')\n",
    "import random"
   ]
  },
  {
   "cell_type": "code",
   "execution_count": 2,
   "metadata": {},
   "outputs": [
    {
     "data": {
      "text/plain": [
       "<torch._C.Generator at 0x7fcf640c5530>"
      ]
     },
     "execution_count": 2,
     "metadata": {},
     "output_type": "execute_result"
    }
   ],
   "source": [
    "torch.manual_seed(3)"
   ]
  },
  {
   "cell_type": "code",
   "execution_count": 3,
   "metadata": {},
   "outputs": [
    {
     "data": {
      "text/plain": [
       "CondVAE(\n",
       "  (encoder_condition_embedding): Embedding(4, 8)\n",
       "  (encoder): EncoderRNN(\n",
       "    (embedding): Embedding(28, 264)\n",
       "    (lstm): LSTM(264, 264)\n",
       "  )\n",
       "  (fc_mu): Linear(in_features=264, out_features=32, bias=True)\n",
       "  (fc_logvar): Linear(in_features=264, out_features=32, bias=True)\n",
       "  (fc_extend_latent): Linear(in_features=32, out_features=256, bias=True)\n",
       "  (decoder_condition_embedding): Embedding(4, 8)\n",
       "  (decoder): DecoderRNN(\n",
       "    (embedding): Embedding(28, 264)\n",
       "    (lstm): LSTM(264, 264)\n",
       "    (out): Linear(in_features=264, out_features=28, bias=True)\n",
       "  )\n",
       ")"
      ]
     },
     "execution_count": 3,
     "metadata": {},
     "output_type": "execute_result"
    }
   ],
   "source": [
    "model = torch.load('./models/model_mono_0816_3795_best')\n",
    "model"
   ]
  },
  {
   "cell_type": "code",
   "execution_count": 4,
   "metadata": {},
   "outputs": [
    {
     "name": "stdout",
     "output_type": "stream",
     "text": [
      "---------------------------------\n",
      "input :  abandon\n",
      "target:  abandoned\n",
      "pred  :  abanced\n",
      "---------------------------------\n",
      "input :  abet\n",
      "target:  abetting\n",
      "pred  :  babbling\n",
      "---------------------------------\n",
      "input :  begin\n",
      "target:  begins\n",
      "pred  :  engulfs\n",
      "---------------------------------\n",
      "input :  expend\n",
      "target:  expends\n",
      "pred  :  explies\n",
      "---------------------------------\n",
      "input :  sent\n",
      "target:  sends\n",
      "pred  :  sends\n",
      "---------------------------------\n",
      "input :  split\n",
      "target:  splitting\n",
      "pred  :  plucking\n",
      "---------------------------------\n",
      "input :  flared\n",
      "target:  flare\n",
      "pred  :  flare\n",
      "---------------------------------\n",
      "input :  functioning\n",
      "target:  function\n",
      "pred  :  continue\n",
      "---------------------------------\n",
      "input :  functioning\n",
      "target:  functioned\n",
      "pred  :  functioned\n",
      "---------------------------------\n",
      "input :  healing\n",
      "target:  heals\n",
      "pred  :  leads\n",
      "=================================\n",
      "Average BLEU-4 score =  0.41423323125879125\n"
     ]
    },
    {
     "data": {
      "text/plain": [
       "0.41423323125879125"
      ]
     },
     "execution_count": 4,
     "metadata": {},
     "output_type": "execute_result"
    }
   ],
   "source": [
    "cal_bleu(model, print_result=True)"
   ]
  },
  {
   "cell_type": "code",
   "execution_count": 5,
   "metadata": {},
   "outputs": [
    {
     "name": "stdout",
     "output_type": "stream",
     "text": [
      "['drive', 'drives', 'driving', 'dreaw']\n",
      "['negotiate', 'negotiates', 'negotiating', 'negotiated']\n",
      "['function', 'functions', 'functioning', 'functioned']\n",
      "['preck', 'prepces', 'opecing', 'prepced']\n",
      "['belt', 'belts', 'belting', 'belted']\n",
      "['argue', 'argues', 'arguingg', 'argued']\n",
      "['prague', 'pragues', 'praguing', 'pragued']\n",
      "['abase', 'abases', 'abasing', 'abounded']\n",
      "['snap', 'snaps', 'snatching', 'snapped']\n",
      "['plugge', 'plugs', 'plugging', 'plugged']\n",
      "['missuet', 'cuurses', 'missuingng', 'missuedded']\n",
      "['gee', 'geets', 'geeing', 'goet']\n",
      "['allay', 'allays', 'allaying', 'allayed']\n",
      "['basteach', 'basteaches', 'basteaching', 'basteached']\n",
      "['brinkle', 'brinkss', 'brinklingg', 'brinkled']\n",
      "['presposes', 'presposes', 'presposinggg', 'presposedded']\n",
      "['stagger', 'startees', 'staggering', 'staggered']\n",
      "['expect', 'expects', 'expecting', 'expected']\n",
      "['award', 'awards', 'awarding', 'driwded']\n",
      "['interest', 'interests', 'interesting', 'interested']\n",
      "['lounge', 'lounges', 'lounging', 'lounged']\n",
      "['helt', 'helts', 'helting', 'helted']\n",
      "['shstalle', 'shstalls', 'shstalling', 'shstalled']\n",
      "['amuse', 'amuses', 'amusingg', 'amused']\n",
      "['contribute', 'contributes', 'contributing', 'contributed']\n",
      "['mand', 'mands', 'manning', 'manded']\n",
      "['teak', 'teaks', 'teaking', 'tossed']\n",
      "['balge', 'balges', 'balging', 'barga']\n",
      "['fedget', 'fedgets', 'fedgeting', 'fedured']\n",
      "['inlaici', 'inlaicits', 'inlaicingg', 'inlaished']\n",
      "['concede', 'concedes', 'conceding', 'conceded']\n",
      "['butter', 'butters', 'buttering', 'buttered']\n",
      "['launte', 'launts', 'launting', 'alleged']\n",
      "['glower', 'glows', 'flaringg', 'flared']\n",
      "['exclaim', 'exclaims', 'exclaiming', 'concleded']\n",
      "['stalk', 'stalks', 'stalking', 'stalked']\n",
      "['inspise', 'inspists', 'inspisingn', 'inspisted']\n",
      "['previsit', 'previsits', 'previsiting', 'previsited']\n",
      "['contain', 'contains', 'containing', 'contained']\n",
      "['climb', 'climbs', 'climbing', 'climbed']\n",
      "['capsize', 'capsizes', 'capsizing', 'capsized']\n",
      "['hurte', 'hurts', 'hurting', 'hurried']\n",
      "['fall', 'falls', 'falling', 'falled']\n",
      "['discounte', 'discounts', 'discounting', 'discounted']\n",
      "['profess', 'profess', 'professing', 'professed']\n",
      "['recall', 'recalls', 'recalling', 'recalled']\n",
      "['becall', 'becalls', 'becalling', 'becalled']\n",
      "['hold', 'holds', 'holding', 'held']\n",
      "['flood', 'floaoks', 'flooding', 'flooded']\n",
      "['pretend', 'pretends', 'pretending', 'pretended']\n",
      "['hortle', 'hortles', 'hortling', 'hored']\n",
      "['circulate', 'circulates', 'circulating', 'circleded']\n",
      "['concede', 'concedes', 'conceding', 'conceded']\n",
      "['accompany', 'accompanies', 'accompanying', 'accompanied']\n",
      "['renund', 'renuns', 'renewing', 'renewed']\n",
      "['chirle', 'chirls', 'chrieking', 'chirled']\n",
      "['vieer', 'viees', 'vienging', 'vanged']\n",
      "['ease', 'eases', 'easing', 'asked']\n",
      "['bristle', 'brists', 'bristling', 'bristled']\n",
      "['flicken', 'flickens', 'flickening', 'flicked']\n",
      "['discover', 'discovers', 'discovering', 'discovered']\n",
      "['gossi', 'gossis', 'gossing', 'winced']\n",
      "['fumble', 'fumbles', 'fumblingg', 'fumbled']\n",
      "['violater', 'violatees', 'violatering', 'violatedd']\n",
      "['estimate', 'estimates', 'estimating', 'estimated']\n",
      "['stalk', 'stalks', 'stalking', 'stalked']\n",
      "['gessite', 'gessits', 'gessitating', 'missueted']\n",
      "['fatten', 'fattens', 'fattening', 'flashed']\n",
      "['dratten', 'drattens', 'drattening', 'drattened']\n",
      "['booze', 'boozes', 'boozing', 'boozed']\n",
      "['attach', 'attaches', 'attaching', 'attached']\n",
      "['tealler', 'teallers', 'teallering', 'teallered']\n",
      "['stalk', 'stalks', 'stalking', 'stalked']\n",
      "['stiffen', 'stiffens', 'stiffening', 'stiffened']\n",
      "['gleam', 'gleams', 'gleaing', 'gleamed']\n",
      "['foregoe', 'foregoes', 'foregoing', 'foredided']\n",
      "['stimulate', 'stimulates', 'stimulating', 'stimulated']\n",
      "['farain', 'farains', 'fashiring', 'farained']\n",
      "['delaim', 'designates', 'designaing', 'designated']\n",
      "['better', 'betters', 'bettering', 'betrayed']\n",
      "['silence', 'silences', 'silencing', 'silenced']\n",
      "['unloce', 'unloces', 'unlocking', 'outshoned']\n",
      "['climble', 'climbs', 'carllingg', 'climbed']\n",
      "['futterin', 'futteries', 'futteringni', 'futteried']\n",
      "['flail', 'flails', 'flailing', 'flailed']\n",
      "['arrest', 'argets', 'arresting', 'arrested']\n",
      "['outrene', 'outshines', 'outrending', 'outrunted']\n",
      "['acclaim', 'acclaims', 'acclaiming', 'acclaimed']\n",
      "['speimit', 'speimsies', 'speintaling', 'speintalled']\n",
      "['lurch', 'lurches', 'lurching', 'lurched']\n",
      "['weptr', 'wepars', 'weptring', 'wored']\n",
      "['avert', 'averts', 'averting', 'averted']\n",
      "['cault', 'cauls', 'capsinggg', 'capsided']\n",
      "['bend', 'bends', 'bending', 'bounded']\n",
      "['install', 'installs', 'installing', 'installed']\n",
      "['rewire', 'rewires', 'rewirming', 'rewiredd']\n",
      "['batter', 'batters', 'battering', 'battered']\n",
      "['arrange', 'arranges', 'arranging', 'arrented']\n",
      "['whistle', 'whistles', 'whistling', 'whistled']\n",
      "['arrese', 'arreses', 'arresting', 'arresed']\n",
      "Gaussian score:  0.38\n"
     ]
    }
   ],
   "source": [
    "score = cal_gaussian(model, print_result =True)"
   ]
  },
  {
   "cell_type": "code",
   "execution_count": null,
   "metadata": {},
   "outputs": [],
   "source": []
  }
 ],
 "metadata": {
  "kernelspec": {
   "display_name": "Python 3",
   "language": "python",
   "name": "python3"
  },
  "language_info": {
   "codemirror_mode": {
    "name": "ipython",
    "version": 3
   },
   "file_extension": ".py",
   "mimetype": "text/x-python",
   "name": "python",
   "nbconvert_exporter": "python",
   "pygments_lexer": "ipython3",
   "version": "3.6.9"
  }
 },
 "nbformat": 4,
 "nbformat_minor": 2
}
